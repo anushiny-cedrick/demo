{
 "cells": [
  {
   "cell_type": "code",
   "execution_count": 1,
   "id": "e7c8ee46",
   "metadata": {},
   "outputs": [],
   "source": [
    "import pandas as pd\n",
    "import numpy as np\n"
   ]
  },
  {
   "cell_type": "code",
   "execution_count": 2,
   "id": "91793923",
   "metadata": {},
   "outputs": [],
   "source": [
    "text={\"text\":['THIS NLP TUTORAIL IS GOOO.','I like eating beans what about you>?','fOTTBALL is my favorite game']}"
   ]
  },
  {
   "cell_type": "code",
   "execution_count": 3,
   "id": "93c7efd0",
   "metadata": {},
   "outputs": [],
   "source": [
    "df=pd.DataFrame(text)"
   ]
  },
  {
   "cell_type": "code",
   "execution_count": 4,
   "id": "79ad3419",
   "metadata": {},
   "outputs": [
    {
     "data": {
      "text/html": [
       "<div>\n",
       "<style scoped>\n",
       "    .dataframe tbody tr th:only-of-type {\n",
       "        vertical-align: middle;\n",
       "    }\n",
       "\n",
       "    .dataframe tbody tr th {\n",
       "        vertical-align: top;\n",
       "    }\n",
       "\n",
       "    .dataframe thead th {\n",
       "        text-align: right;\n",
       "    }\n",
       "</style>\n",
       "<table border=\"1\" class=\"dataframe\">\n",
       "  <thead>\n",
       "    <tr style=\"text-align: right;\">\n",
       "      <th></th>\n",
       "      <th>text</th>\n",
       "    </tr>\n",
       "  </thead>\n",
       "  <tbody>\n",
       "    <tr>\n",
       "      <th>0</th>\n",
       "      <td>THIS NLP TUTORAIL IS GOOO.</td>\n",
       "    </tr>\n",
       "    <tr>\n",
       "      <th>1</th>\n",
       "      <td>I like eating beans what about you&gt;?</td>\n",
       "    </tr>\n",
       "    <tr>\n",
       "      <th>2</th>\n",
       "      <td>fOTTBALL is my favorite game</td>\n",
       "    </tr>\n",
       "  </tbody>\n",
       "</table>\n",
       "</div>"
      ],
      "text/plain": [
       "                                   text\n",
       "0            THIS NLP TUTORAIL IS GOOO.\n",
       "1  I like eating beans what about you>?\n",
       "2          fOTTBALL is my favorite game"
      ]
     },
     "execution_count": 4,
     "metadata": {},
     "output_type": "execute_result"
    }
   ],
   "source": [
    "df"
   ]
  },
  {
   "cell_type": "code",
   "execution_count": 5,
   "id": "4380b382",
   "metadata": {},
   "outputs": [],
   "source": [
    "import nltk\n",
    "from nltk.corpus import stopwords\n",
    "from nltk.tokenize import word_tokenize"
   ]
  },
  {
   "cell_type": "code",
   "execution_count": 6,
   "id": "9cf2ebf0",
   "metadata": {},
   "outputs": [],
   "source": [
    "from textblob import TextBlob"
   ]
  },
  {
   "cell_type": "code",
   "execution_count": 7,
   "id": "89dd7f31",
   "metadata": {},
   "outputs": [],
   "source": [
    "df[\"text1\"]=df[\"text\"].apply(lambda x: x.lower())"
   ]
  },
  {
   "cell_type": "code",
   "execution_count": 8,
   "id": "67a77b15",
   "metadata": {},
   "outputs": [
    {
     "data": {
      "text/html": [
       "<div>\n",
       "<style scoped>\n",
       "    .dataframe tbody tr th:only-of-type {\n",
       "        vertical-align: middle;\n",
       "    }\n",
       "\n",
       "    .dataframe tbody tr th {\n",
       "        vertical-align: top;\n",
       "    }\n",
       "\n",
       "    .dataframe thead th {\n",
       "        text-align: right;\n",
       "    }\n",
       "</style>\n",
       "<table border=\"1\" class=\"dataframe\">\n",
       "  <thead>\n",
       "    <tr style=\"text-align: right;\">\n",
       "      <th></th>\n",
       "      <th>text</th>\n",
       "      <th>text1</th>\n",
       "    </tr>\n",
       "  </thead>\n",
       "  <tbody>\n",
       "    <tr>\n",
       "      <th>0</th>\n",
       "      <td>THIS NLP TUTORAIL IS GOOO.</td>\n",
       "      <td>this nlp tutorail is gooo.</td>\n",
       "    </tr>\n",
       "    <tr>\n",
       "      <th>1</th>\n",
       "      <td>I like eating beans what about you&gt;?</td>\n",
       "      <td>i like eating beans what about you&gt;?</td>\n",
       "    </tr>\n",
       "    <tr>\n",
       "      <th>2</th>\n",
       "      <td>fOTTBALL is my favorite game</td>\n",
       "      <td>fottball is my favorite game</td>\n",
       "    </tr>\n",
       "  </tbody>\n",
       "</table>\n",
       "</div>"
      ],
      "text/plain": [
       "                                   text                                 text1\n",
       "0            THIS NLP TUTORAIL IS GOOO.            this nlp tutorail is gooo.\n",
       "1  I like eating beans what about you>?  i like eating beans what about you>?\n",
       "2          fOTTBALL is my favorite game          fottball is my favorite game"
      ]
     },
     "execution_count": 8,
     "metadata": {},
     "output_type": "execute_result"
    }
   ],
   "source": [
    "df"
   ]
  },
  {
   "cell_type": "code",
   "execution_count": 9,
   "id": "6505aa5f",
   "metadata": {},
   "outputs": [],
   "source": [
    "import string"
   ]
  },
  {
   "cell_type": "code",
   "execution_count": 16,
   "id": "7e72dba6",
   "metadata": {},
   "outputs": [],
   "source": [
    "df[\"text2\"]=df[\"text\"].apply(lambda x: \" \".join(pun for pun in x.split() if pun not in string.punctuation))"
   ]
  },
  {
   "cell_type": "code",
   "execution_count": 17,
   "id": "a5d49bb1",
   "metadata": {},
   "outputs": [
    {
     "data": {
      "text/html": [
       "<div>\n",
       "<style scoped>\n",
       "    .dataframe tbody tr th:only-of-type {\n",
       "        vertical-align: middle;\n",
       "    }\n",
       "\n",
       "    .dataframe tbody tr th {\n",
       "        vertical-align: top;\n",
       "    }\n",
       "\n",
       "    .dataframe thead th {\n",
       "        text-align: right;\n",
       "    }\n",
       "</style>\n",
       "<table border=\"1\" class=\"dataframe\">\n",
       "  <thead>\n",
       "    <tr style=\"text-align: right;\">\n",
       "      <th></th>\n",
       "      <th>text</th>\n",
       "      <th>text1</th>\n",
       "      <th>text2</th>\n",
       "    </tr>\n",
       "  </thead>\n",
       "  <tbody>\n",
       "    <tr>\n",
       "      <th>0</th>\n",
       "      <td>THIS NLP TUTORAIL IS GOOO.</td>\n",
       "      <td>this nlp tutorail is gooo.</td>\n",
       "      <td>THIS NLP TUTORAIL IS GOOO.</td>\n",
       "    </tr>\n",
       "    <tr>\n",
       "      <th>1</th>\n",
       "      <td>I like eating beans what about you&gt;?</td>\n",
       "      <td>i like eating beans what about you&gt;?</td>\n",
       "      <td>I like eating beans what about you&gt;?</td>\n",
       "    </tr>\n",
       "    <tr>\n",
       "      <th>2</th>\n",
       "      <td>fOTTBALL is my favorite game</td>\n",
       "      <td>fottball is my favorite game</td>\n",
       "      <td>fOTTBALL is my favorite game</td>\n",
       "    </tr>\n",
       "  </tbody>\n",
       "</table>\n",
       "</div>"
      ],
      "text/plain": [
       "                                   text                                 text1  \\\n",
       "0            THIS NLP TUTORAIL IS GOOO.            this nlp tutorail is gooo.   \n",
       "1  I like eating beans what about you>?  i like eating beans what about you>?   \n",
       "2          fOTTBALL is my favorite game          fottball is my favorite game   \n",
       "\n",
       "                                  text2  \n",
       "0            THIS NLP TUTORAIL IS GOOO.  \n",
       "1  I like eating beans what about you>?  \n",
       "2          fOTTBALL is my favorite game  "
      ]
     },
     "execution_count": 17,
     "metadata": {},
     "output_type": "execute_result"
    }
   ],
   "source": [
    "df"
   ]
  },
  {
   "cell_type": "code",
   "execution_count": 20,
   "id": "b7e72078",
   "metadata": {},
   "outputs": [],
   "source": [
    "import re\n",
    "df[\"text3\"]=df[\"text1\"].apply(lambda x: re.sub(r\"[^a-zA-Z]\",\" \",x))"
   ]
  },
  {
   "cell_type": "code",
   "execution_count": 21,
   "id": "3e1f44e0",
   "metadata": {},
   "outputs": [
    {
     "data": {
      "text/html": [
       "<div>\n",
       "<style scoped>\n",
       "    .dataframe tbody tr th:only-of-type {\n",
       "        vertical-align: middle;\n",
       "    }\n",
       "\n",
       "    .dataframe tbody tr th {\n",
       "        vertical-align: top;\n",
       "    }\n",
       "\n",
       "    .dataframe thead th {\n",
       "        text-align: right;\n",
       "    }\n",
       "</style>\n",
       "<table border=\"1\" class=\"dataframe\">\n",
       "  <thead>\n",
       "    <tr style=\"text-align: right;\">\n",
       "      <th></th>\n",
       "      <th>text</th>\n",
       "      <th>text1</th>\n",
       "      <th>text2</th>\n",
       "      <th>text3</th>\n",
       "    </tr>\n",
       "  </thead>\n",
       "  <tbody>\n",
       "    <tr>\n",
       "      <th>0</th>\n",
       "      <td>THIS NLP TUTORAIL IS GOOO.</td>\n",
       "      <td>this nlp tutorail is gooo.</td>\n",
       "      <td>THIS NLP TUTORAIL IS GOOO.</td>\n",
       "      <td>this nlp tutorail is gooo</td>\n",
       "    </tr>\n",
       "    <tr>\n",
       "      <th>1</th>\n",
       "      <td>I like eating beans what about you&gt;?</td>\n",
       "      <td>i like eating beans what about you&gt;?</td>\n",
       "      <td>I like eating beans what about you&gt;?</td>\n",
       "      <td>i like eating beans what about you</td>\n",
       "    </tr>\n",
       "    <tr>\n",
       "      <th>2</th>\n",
       "      <td>fOTTBALL is my favorite game</td>\n",
       "      <td>fottball is my favorite game</td>\n",
       "      <td>fOTTBALL is my favorite game</td>\n",
       "      <td>fottball is my favorite game</td>\n",
       "    </tr>\n",
       "  </tbody>\n",
       "</table>\n",
       "</div>"
      ],
      "text/plain": [
       "                                   text                                 text1  \\\n",
       "0            THIS NLP TUTORAIL IS GOOO.            this nlp tutorail is gooo.   \n",
       "1  I like eating beans what about you>?  i like eating beans what about you>?   \n",
       "2          fOTTBALL is my favorite game          fottball is my favorite game   \n",
       "\n",
       "                                  text2                                 text3  \n",
       "0            THIS NLP TUTORAIL IS GOOO.            this nlp tutorail is gooo   \n",
       "1  I like eating beans what about you>?  i like eating beans what about you    \n",
       "2          fOTTBALL is my favorite game          fottball is my favorite game  "
      ]
     },
     "execution_count": 21,
     "metadata": {},
     "output_type": "execute_result"
    }
   ],
   "source": [
    "df"
   ]
  },
  {
   "cell_type": "code",
   "execution_count": 23,
   "id": "a768e6de",
   "metadata": {},
   "outputs": [],
   "source": [
    "stop_words=set(stopwords.words(\"english\"))"
   ]
  },
  {
   "cell_type": "code",
   "execution_count": 25,
   "id": "ce55c616",
   "metadata": {},
   "outputs": [],
   "source": [
    "df[\"text4\"]=df[\"text3\"].apply(lambda x: \" \".join(word for word in x.split() if word not in stop_words ))"
   ]
  },
  {
   "cell_type": "code",
   "execution_count": 26,
   "id": "4ceff055",
   "metadata": {},
   "outputs": [
    {
     "data": {
      "text/html": [
       "<div>\n",
       "<style scoped>\n",
       "    .dataframe tbody tr th:only-of-type {\n",
       "        vertical-align: middle;\n",
       "    }\n",
       "\n",
       "    .dataframe tbody tr th {\n",
       "        vertical-align: top;\n",
       "    }\n",
       "\n",
       "    .dataframe thead th {\n",
       "        text-align: right;\n",
       "    }\n",
       "</style>\n",
       "<table border=\"1\" class=\"dataframe\">\n",
       "  <thead>\n",
       "    <tr style=\"text-align: right;\">\n",
       "      <th></th>\n",
       "      <th>text</th>\n",
       "      <th>text1</th>\n",
       "      <th>text2</th>\n",
       "      <th>text3</th>\n",
       "      <th>text4</th>\n",
       "    </tr>\n",
       "  </thead>\n",
       "  <tbody>\n",
       "    <tr>\n",
       "      <th>0</th>\n",
       "      <td>THIS NLP TUTORAIL IS GOOO.</td>\n",
       "      <td>this nlp tutorail is gooo.</td>\n",
       "      <td>THIS NLP TUTORAIL IS GOOO.</td>\n",
       "      <td>this nlp tutorail is gooo</td>\n",
       "      <td>nlptutorailgooo</td>\n",
       "    </tr>\n",
       "    <tr>\n",
       "      <th>1</th>\n",
       "      <td>I like eating beans what about you&gt;?</td>\n",
       "      <td>i like eating beans what about you&gt;?</td>\n",
       "      <td>I like eating beans what about you&gt;?</td>\n",
       "      <td>i like eating beans what about you</td>\n",
       "      <td>likeeatingbeans</td>\n",
       "    </tr>\n",
       "    <tr>\n",
       "      <th>2</th>\n",
       "      <td>fOTTBALL is my favorite game</td>\n",
       "      <td>fottball is my favorite game</td>\n",
       "      <td>fOTTBALL is my favorite game</td>\n",
       "      <td>fottball is my favorite game</td>\n",
       "      <td>fottballfavoritegame</td>\n",
       "    </tr>\n",
       "  </tbody>\n",
       "</table>\n",
       "</div>"
      ],
      "text/plain": [
       "                                   text                                 text1  \\\n",
       "0            THIS NLP TUTORAIL IS GOOO.            this nlp tutorail is gooo.   \n",
       "1  I like eating beans what about you>?  i like eating beans what about you>?   \n",
       "2          fOTTBALL is my favorite game          fottball is my favorite game   \n",
       "\n",
       "                                  text2                                 text3  \\\n",
       "0            THIS NLP TUTORAIL IS GOOO.            this nlp tutorail is gooo    \n",
       "1  I like eating beans what about you>?  i like eating beans what about you     \n",
       "2          fOTTBALL is my favorite game          fottball is my favorite game   \n",
       "\n",
       "                  text4  \n",
       "0       nlptutorailgooo  \n",
       "1       likeeatingbeans  \n",
       "2  fottballfavoritegame  "
      ]
     },
     "execution_count": 26,
     "metadata": {},
     "output_type": "execute_result"
    }
   ],
   "source": [
    "df"
   ]
  },
  {
   "cell_type": "code",
   "execution_count": null,
   "id": "3534cfea",
   "metadata": {},
   "outputs": [],
   "source": []
  }
 ],
 "metadata": {
  "kernelspec": {
   "display_name": "Python 3 (ipykernel)",
   "language": "python",
   "name": "python3"
  },
  "language_info": {
   "codemirror_mode": {
    "name": "ipython",
    "version": 3
   },
   "file_extension": ".py",
   "mimetype": "text/x-python",
   "name": "python",
   "nbconvert_exporter": "python",
   "pygments_lexer": "ipython3",
   "version": "3.10.4"
  }
 },
 "nbformat": 4,
 "nbformat_minor": 5
}
